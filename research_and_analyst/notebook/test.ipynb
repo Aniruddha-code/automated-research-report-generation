{
 "cells": [
  {
   "cell_type": "code",
   "execution_count": 1,
   "id": "a1067e4a",
   "metadata": {},
   "outputs": [
    {
     "name": "stdout",
     "output_type": "stream",
     "text": [
      "all ok\n"
     ]
    }
   ],
   "source": [
    "print(\"all ok\")"
   ]
  },
  {
   "cell_type": "code",
   "execution_count": 2,
   "id": "4a87e787",
   "metadata": {},
   "outputs": [
    {
     "name": "stdout",
     "output_type": "stream",
     "text": [
      "Project root added to path: d:\\PythonCode\\automated-research-report-generation\n"
     ]
    }
   ],
   "source": [
    "import sys, os\n",
    "\n",
    "# Get project root — one level up from 'research_and_analyst'\n",
    "project_root = os.path.abspath(os.path.join(os.getcwd(), \"../..\"))\n",
    "sys.path.append(project_root)\n",
    "\n",
    "print(\"Project root added to path:\", project_root)\n"
   ]
  },
  {
   "cell_type": "code",
   "execution_count": 3,
   "id": "cb6337a1",
   "metadata": {},
   "outputs": [],
   "source": [
    "from research_and_analyst.utils.model_loader import ModelLoader"
   ]
  },
  {
   "cell_type": "code",
   "execution_count": 4,
   "id": "68932a48",
   "metadata": {},
   "outputs": [
    {
     "name": "stderr",
     "output_type": "stream",
     "text": [
      "{\"timestamp\": \"2025-10-10T15:06:02.988421Z\", \"level\": \"info\", \"event\": \"OPENAI_API_KEY loaded from environment\"}\n",
      "{\"timestamp\": \"2025-10-10T15:06:02.991417Z\", \"level\": \"info\", \"event\": \"GOOGLE_API_KEY loaded from environment\"}\n",
      "{\"timestamp\": \"2025-10-10T15:06:02.992965Z\", \"level\": \"info\", \"event\": \"GROQ_API_KEY loaded from environment\"}\n",
      "{\"timestamp\": \"2025-10-10T15:06:02.992965Z\", \"level\": \"info\", \"event\": \"ASTRA_DB_API_ENDPOINT loaded from environment\"}\n",
      "{\"timestamp\": \"2025-10-10T15:06:02.992965Z\", \"level\": \"info\", \"event\": \"ASTRA_DB_APPLICATION_TOKEN loaded from environment\"}\n",
      "{\"timestamp\": \"2025-10-10T15:06:02.992965Z\", \"level\": \"info\", \"event\": \"ASTRA_DB_KEYSPACE loaded from environment\"}\n",
      "{\"config_keys\": [\"astra_db\", \"embedding_model\", \"retriever\", \"llm\"], \"timestamp\": \"2025-10-10T15:06:03.005899Z\", \"level\": \"info\", \"event\": \"YAML config loaded\"}\n"
     ]
    }
   ],
   "source": [
    "model_loader = ModelLoader()"
   ]
  },
  {
   "cell_type": "code",
   "execution_count": 7,
   "id": "693688ee",
   "metadata": {},
   "outputs": [
    {
     "name": "stderr",
     "output_type": "stream",
     "text": [
      "{\"provider\": \"openai\", \"model\": \"gpt-4o\", \"timestamp\": \"2025-10-10T15:07:02.483973Z\", \"level\": \"info\", \"event\": \"Loading LLM\"}\n"
     ]
    }
   ],
   "source": [
    "llm=model_loader.load_llm()"
   ]
  },
  {
   "cell_type": "code",
   "execution_count": 8,
   "id": "f0b6d263",
   "metadata": {},
   "outputs": [
    {
     "name": "stderr",
     "output_type": "stream",
     "text": [
      "HTTP Request: POST https://api.openai.com/v1/chat/completions \"HTTP/1.1 200 OK\"\n"
     ]
    },
    {
     "data": {
      "text/plain": [
       "AIMessage(content='Hello! How can I assist you today?', additional_kwargs={'refusal': None}, response_metadata={'token_usage': {'completion_tokens': 9, 'prompt_tokens': 8, 'total_tokens': 17, 'completion_tokens_details': {'accepted_prediction_tokens': 0, 'audio_tokens': 0, 'reasoning_tokens': 0, 'rejected_prediction_tokens': 0}, 'prompt_tokens_details': {'audio_tokens': 0, 'cached_tokens': 0}}, 'model_name': 'gpt-4o-2024-08-06', 'system_fingerprint': 'fp_f64f290af2', 'id': 'chatcmpl-CP901w1Bc4qg4Ai9pxwHl691vYtkM', 'service_tier': 'default', 'finish_reason': 'stop', 'logprobs': None}, id='run--ff57a571-0f13-469e-9384-0889122ca841-0', usage_metadata={'input_tokens': 8, 'output_tokens': 9, 'total_tokens': 17, 'input_token_details': {'audio': 0, 'cache_read': 0}, 'output_token_details': {'audio': 0, 'reasoning': 0}})"
      ]
     },
     "execution_count": 8,
     "metadata": {},
     "output_type": "execute_result"
    }
   ],
   "source": [
    "llm.invoke(\"hi\")"
   ]
  }
 ],
 "metadata": {
  "kernelspec": {
   "display_name": "researchvenv",
   "language": "python",
   "name": "python3"
  },
  "language_info": {
   "codemirror_mode": {
    "name": "ipython",
    "version": 3
   },
   "file_extension": ".py",
   "mimetype": "text/x-python",
   "name": "python",
   "nbconvert_exporter": "python",
   "pygments_lexer": "ipython3",
   "version": "3.11.11"
  }
 },
 "nbformat": 4,
 "nbformat_minor": 5
}
